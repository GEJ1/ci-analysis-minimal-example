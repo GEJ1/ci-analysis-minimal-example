{
 "cells": [
  {
   "cell_type": "markdown",
   "id": "c3c6c99c",
   "metadata": {},
   "source": [
    "### Example of using continuous integration to run data analysis\n",
    "\n",
    "Russ Poldrack\n",
    "March 13, 2022\n",
    "\n",
    "In this simple example we will load data from [Eisenberg et al., 2019](https://github.com/IanEisenberg/Self_Regulation_Ontology) in which individuals were tested on a broad range of psychological measures as well as a survey of real-world outcomes.  We will ask the following question: Are scores on impulsivity measures associated with the likelihood of being arrested?"
   ]
  },
  {
   "cell_type": "code",
   "execution_count": 4,
   "id": "5fd8dfeb",
   "metadata": {},
   "outputs": [],
   "source": [
    "import os\n",
    "from merge_data import load_data, merge_data\n",
    "from arrest_analysis import model_arrest, load_alldata, \\\n",
    "     select_variables, save_output\n",
    "import pandas as pd\n",
    "import statsmodels.api as sm\n",
    "from lrtest import lrtest\n",
    "\n",
    "datadir = '../data'\n",
    "resultsdir = '../results'"
   ]
  },
  {
   "cell_type": "markdown",
   "id": "58f8d2b5",
   "metadata": {},
   "source": [
    "First we will load and clean up the data from the original study, which are stored in two files -- one containing the behavioral data, and the other containing the demographic data.\n",
    "\n",
    "First we load and merge the two files into a single dataset, and save it for later use."
   ]
  },
  {
   "cell_type": "code",
   "execution_count": 2,
   "id": "788b5f44",
   "metadata": {},
   "outputs": [
    {
     "name": "stdout",
     "output_type": "stream",
     "text": [
      "Data merged and saved to data/alldata.csv\n"
     ]
    }
   ],
   "source": [
    "demogdata, taskdata = load_data(datadir)\n",
    "alldata = merge_data(demogdata, taskdata, datadir)\n",
    "\n",
    "print('Data merged and saved to data/alldata.csv')"
   ]
  },
  {
   "cell_type": "markdown",
   "id": "88b33eec",
   "metadata": {},
   "source": [
    "Next we will select the specific variables that we want.  We would like to include all variables from the following surveys:\n",
    "\n",
    "- Barratt Impulsiveness Scale (BIS11)\n",
    "- Sensation Seeking Survey\n",
    "- Dickman survey\n",
    "- Implusive Venturesomeness Survey\n",
    "- UPPS-P\n",
    "\n",
    "We also want to include a measure of prior arrest. The original dataset included a variable containing the number of times one had been arrested; however, this variable is zero-inflated with a long tail, so for the purposes of the present analysis we will binarize this variable to allow us to examine the likelihood of having been arrested at least once.  We also include Age and Sex as baseline variables."
   ]
  },
  {
   "cell_type": "code",
   "execution_count": 3,
   "id": "77256c7e",
   "metadata": {},
   "outputs": [
    {
     "data": {
      "text/plain": [
       "Index(['bis11_survey.Attentional', 'bis11_survey.Motor.logTr',\n",
       "       'bis11_survey.Nonplanning', 'dickman_survey.functional',\n",
       "       'impulsive_venture_survey.venturesomeness',\n",
       "       'sensation_seeking_survey.boredom_susceptibility',\n",
       "       'sensation_seeking_survey.disinhibition',\n",
       "       'sensation_seeking_survey.experience_seeking',\n",
       "       'sensation_seeking_survey.thrill_adventure_seeking',\n",
       "       'upps_impulsivity_survey.lack_of_perseverance',\n",
       "       'upps_impulsivity_survey.lack_of_premeditation',\n",
       "       'upps_impulsivity_survey.negative_urgency',\n",
       "       'upps_impulsivity_survey.positive_urgency',\n",
       "       'upps_impulsivity_survey.sensation_seeking', 'Age', 'Sex',\n",
       "       'EverArrested'],\n",
       "      dtype='object')"
      ]
     },
     "execution_count": 3,
     "metadata": {},
     "output_type": "execute_result"
    }
   ],
   "source": [
    "arrestdata = select_variables(alldata)\n",
    "\n",
    "arrestdata.columns"
   ]
  },
  {
   "cell_type": "markdown",
   "id": "fcc211b8",
   "metadata": {},
   "source": [
    "Now let's fit our logistic regression model to the dataset.  "
   ]
  },
  {
   "cell_type": "code",
   "execution_count": 6,
   "id": "a3f5b7cf",
   "metadata": {},
   "outputs": [
    {
     "name": "stdout",
     "output_type": "stream",
     "text": [
      "Optimization terminated successfully.\n",
      "         Current function value: 0.471928\n",
      "         Iterations 6\n"
     ]
    },
    {
     "data": {
      "text/html": [
       "<table class=\"simpletable\">\n",
       "<caption>Logit Regression Results</caption>\n",
       "<tr>\n",
       "  <th>Dep. Variable:</th>     <td>EverArrested</td>   <th>  No. Observations:  </th>  <td>   478</td>  \n",
       "</tr>\n",
       "<tr>\n",
       "  <th>Model:</th>                 <td>Logit</td>      <th>  Df Residuals:      </th>  <td>   461</td>  \n",
       "</tr>\n",
       "<tr>\n",
       "  <th>Method:</th>                 <td>MLE</td>       <th>  Df Model:          </th>  <td>    16</td>  \n",
       "</tr>\n",
       "<tr>\n",
       "  <th>Date:</th>            <td>Sun, 13 Mar 2022</td> <th>  Pseudo R-squ.:     </th>  <td>0.1036</td>  \n",
       "</tr>\n",
       "<tr>\n",
       "  <th>Time:</th>                <td>08:08:28</td>     <th>  Log-Likelihood:    </th> <td> -225.58</td> \n",
       "</tr>\n",
       "<tr>\n",
       "  <th>converged:</th>             <td>True</td>       <th>  LL-Null:           </th> <td> -251.66</td> \n",
       "</tr>\n",
       "<tr>\n",
       "  <th>Covariance Type:</th>     <td>nonrobust</td>    <th>  LLR p-value:       </th> <td>1.034e-05</td>\n",
       "</tr>\n",
       "</table>\n",
       "<table class=\"simpletable\">\n",
       "<tr>\n",
       "                          <td></td>                             <th>coef</th>     <th>std err</th>      <th>z</th>      <th>P>|z|</th>  <th>[0.025</th>    <th>0.975]</th>  \n",
       "</tr>\n",
       "<tr>\n",
       "  <th>const</th>                                             <td>   -5.3103</td> <td>    1.498</td> <td>   -3.544</td> <td> 0.000</td> <td>   -8.247</td> <td>   -2.373</td>\n",
       "</tr>\n",
       "<tr>\n",
       "  <th>bis11_survey.Attentional</th>                          <td>    0.2050</td> <td>    0.159</td> <td>    1.292</td> <td> 0.196</td> <td>   -0.106</td> <td>    0.516</td>\n",
       "</tr>\n",
       "<tr>\n",
       "  <th>bis11_survey.Motor.logTr</th>                          <td>    0.4566</td> <td>    0.928</td> <td>    0.492</td> <td> 0.623</td> <td>   -1.363</td> <td>    2.276</td>\n",
       "</tr>\n",
       "<tr>\n",
       "  <th>bis11_survey.Nonplanning</th>                          <td>    0.1339</td> <td>    0.193</td> <td>    0.693</td> <td> 0.488</td> <td>   -0.245</td> <td>    0.512</td>\n",
       "</tr>\n",
       "<tr>\n",
       "  <th>dickman_survey.functional</th>                         <td>   -0.4640</td> <td>    0.452</td> <td>   -1.027</td> <td> 0.304</td> <td>   -1.349</td> <td>    0.421</td>\n",
       "</tr>\n",
       "<tr>\n",
       "  <th>impulsive_venture_survey.venturesomeness</th>          <td>    1.1095</td> <td>    1.068</td> <td>    1.039</td> <td> 0.299</td> <td>   -0.983</td> <td>    3.202</td>\n",
       "</tr>\n",
       "<tr>\n",
       "  <th>sensation_seeking_survey.boredom_susceptibility</th>   <td>    0.3373</td> <td>    0.658</td> <td>    0.513</td> <td> 0.608</td> <td>   -0.952</td> <td>    1.627</td>\n",
       "</tr>\n",
       "<tr>\n",
       "  <th>sensation_seeking_survey.disinhibition</th>            <td>    0.9320</td> <td>    0.587</td> <td>    1.587</td> <td> 0.112</td> <td>   -0.219</td> <td>    2.083</td>\n",
       "</tr>\n",
       "<tr>\n",
       "  <th>sensation_seeking_survey.experience_seeking</th>       <td>   -0.7887</td> <td>    0.638</td> <td>   -1.236</td> <td> 0.216</td> <td>   -2.039</td> <td>    0.461</td>\n",
       "</tr>\n",
       "<tr>\n",
       "  <th>sensation_seeking_survey.thrill_adventure_seeking</th> <td>    0.3784</td> <td>    0.813</td> <td>    0.466</td> <td> 0.641</td> <td>   -1.214</td> <td>    1.971</td>\n",
       "</tr>\n",
       "<tr>\n",
       "  <th>upps_impulsivity_survey.lack_of_perseverance</th>      <td>   -0.7480</td> <td>    0.325</td> <td>   -2.301</td> <td> 0.021</td> <td>   -1.385</td> <td>   -0.111</td>\n",
       "</tr>\n",
       "<tr>\n",
       "  <th>upps_impulsivity_survey.lack_of_premeditation</th>     <td>    0.2214</td> <td>    0.385</td> <td>    0.575</td> <td> 0.566</td> <td>   -0.534</td> <td>    0.976</td>\n",
       "</tr>\n",
       "<tr>\n",
       "  <th>upps_impulsivity_survey.negative_urgency</th>          <td>    0.5003</td> <td>    0.325</td> <td>    1.540</td> <td> 0.124</td> <td>   -0.137</td> <td>    1.137</td>\n",
       "</tr>\n",
       "<tr>\n",
       "  <th>upps_impulsivity_survey.positive_urgency</th>          <td>   -0.2079</td> <td>    0.306</td> <td>   -0.680</td> <td> 0.496</td> <td>   -0.807</td> <td>    0.391</td>\n",
       "</tr>\n",
       "<tr>\n",
       "  <th>upps_impulsivity_survey.sensation_seeking</th>         <td>   -0.0020</td> <td>    0.396</td> <td>   -0.005</td> <td> 0.996</td> <td>   -0.779</td> <td>    0.775</td>\n",
       "</tr>\n",
       "<tr>\n",
       "  <th>Age</th>                                               <td>    0.0455</td> <td>    0.016</td> <td>    2.894</td> <td> 0.004</td> <td>    0.015</td> <td>    0.076</td>\n",
       "</tr>\n",
       "<tr>\n",
       "  <th>Sex</th>                                               <td>   -0.6917</td> <td>    0.266</td> <td>   -2.602</td> <td> 0.009</td> <td>   -1.213</td> <td>   -0.171</td>\n",
       "</tr>\n",
       "</table>"
      ],
      "text/plain": [
       "<class 'statsmodels.iolib.summary.Summary'>\n",
       "\"\"\"\n",
       "                           Logit Regression Results                           \n",
       "==============================================================================\n",
       "Dep. Variable:           EverArrested   No. Observations:                  478\n",
       "Model:                          Logit   Df Residuals:                      461\n",
       "Method:                           MLE   Df Model:                           16\n",
       "Date:                Sun, 13 Mar 2022   Pseudo R-squ.:                  0.1036\n",
       "Time:                        08:08:28   Log-Likelihood:                -225.58\n",
       "converged:                       True   LL-Null:                       -251.66\n",
       "Covariance Type:            nonrobust   LLR p-value:                 1.034e-05\n",
       "=====================================================================================================================\n",
       "                                                        coef    std err          z      P>|z|      [0.025      0.975]\n",
       "---------------------------------------------------------------------------------------------------------------------\n",
       "const                                                -5.3103      1.498     -3.544      0.000      -8.247      -2.373\n",
       "bis11_survey.Attentional                              0.2050      0.159      1.292      0.196      -0.106       0.516\n",
       "bis11_survey.Motor.logTr                              0.4566      0.928      0.492      0.623      -1.363       2.276\n",
       "bis11_survey.Nonplanning                              0.1339      0.193      0.693      0.488      -0.245       0.512\n",
       "dickman_survey.functional                            -0.4640      0.452     -1.027      0.304      -1.349       0.421\n",
       "impulsive_venture_survey.venturesomeness              1.1095      1.068      1.039      0.299      -0.983       3.202\n",
       "sensation_seeking_survey.boredom_susceptibility       0.3373      0.658      0.513      0.608      -0.952       1.627\n",
       "sensation_seeking_survey.disinhibition                0.9320      0.587      1.587      0.112      -0.219       2.083\n",
       "sensation_seeking_survey.experience_seeking          -0.7887      0.638     -1.236      0.216      -2.039       0.461\n",
       "sensation_seeking_survey.thrill_adventure_seeking     0.3784      0.813      0.466      0.641      -1.214       1.971\n",
       "upps_impulsivity_survey.lack_of_perseverance         -0.7480      0.325     -2.301      0.021      -1.385      -0.111\n",
       "upps_impulsivity_survey.lack_of_premeditation         0.2214      0.385      0.575      0.566      -0.534       0.976\n",
       "upps_impulsivity_survey.negative_urgency              0.5003      0.325      1.540      0.124      -0.137       1.137\n",
       "upps_impulsivity_survey.positive_urgency             -0.2079      0.306     -0.680      0.496      -0.807       0.391\n",
       "upps_impulsivity_survey.sensation_seeking            -0.0020      0.396     -0.005      0.996      -0.779       0.775\n",
       "Age                                                   0.0455      0.016      2.894      0.004       0.015       0.076\n",
       "Sex                                                  -0.6917      0.266     -2.602      0.009      -1.213      -0.171\n",
       "=====================================================================================================================\n",
       "\"\"\""
      ]
     },
     "execution_count": 6,
     "metadata": {},
     "output_type": "execute_result"
    }
   ],
   "source": [
    "baseline_vars = ['Age', 'Sex']\n",
    "y = arrestdata.loc[:, 'EverArrested']\n",
    "X = sm.add_constant(arrestdata.drop(columns=['EverArrested']))\n",
    "log_reg = sm.Logit(y, X).fit()\n",
    "log_reg.summary()"
   ]
  },
  {
   "cell_type": "markdown",
   "id": "95c0ceab",
   "metadata": {},
   "source": [
    "We see that this model fits the data fairly well, with a pseudo R-squared of about .10.  Let's compare this to a baseline model with only Age and Sex."
   ]
  },
  {
   "cell_type": "code",
   "execution_count": 8,
   "id": "b628f9c2",
   "metadata": {},
   "outputs": [
    {
     "name": "stdout",
     "output_type": "stream",
     "text": [
      "Optimization terminated successfully.\n",
      "         Current function value: 0.510229\n",
      "         Iterations 6\n"
     ]
    },
    {
     "data": {
      "text/html": [
       "<table class=\"simpletable\">\n",
       "<caption>Logit Regression Results</caption>\n",
       "<tr>\n",
       "  <th>Dep. Variable:</th>     <td>EverArrested</td>   <th>  No. Observations:  </th>  <td>   478</td>  \n",
       "</tr>\n",
       "<tr>\n",
       "  <th>Model:</th>                 <td>Logit</td>      <th>  Df Residuals:      </th>  <td>   475</td>  \n",
       "</tr>\n",
       "<tr>\n",
       "  <th>Method:</th>                 <td>MLE</td>       <th>  Df Model:          </th>  <td>     2</td>  \n",
       "</tr>\n",
       "<tr>\n",
       "  <th>Date:</th>            <td>Sun, 13 Mar 2022</td> <th>  Pseudo R-squ.:     </th>  <td>0.03088</td> \n",
       "</tr>\n",
       "<tr>\n",
       "  <th>Time:</th>                <td>08:09:49</td>     <th>  Log-Likelihood:    </th> <td> -243.89</td> \n",
       "</tr>\n",
       "<tr>\n",
       "  <th>converged:</th>             <td>True</td>       <th>  LL-Null:           </th> <td> -251.66</td> \n",
       "</tr>\n",
       "<tr>\n",
       "  <th>Covariance Type:</th>     <td>nonrobust</td>    <th>  LLR p-value:       </th> <td>0.0004222</td>\n",
       "</tr>\n",
       "</table>\n",
       "<table class=\"simpletable\">\n",
       "<tr>\n",
       "    <td></td>       <th>coef</th>     <th>std err</th>      <th>z</th>      <th>P>|z|</th>  <th>[0.025</th>    <th>0.975]</th>  \n",
       "</tr>\n",
       "<tr>\n",
       "  <th>const</th> <td>   -2.0951</td> <td>    0.494</td> <td>   -4.237</td> <td> 0.000</td> <td>   -3.064</td> <td>   -1.126</td>\n",
       "</tr>\n",
       "<tr>\n",
       "  <th>Age</th>   <td>    0.0345</td> <td>    0.014</td> <td>    2.451</td> <td> 0.014</td> <td>    0.007</td> <td>    0.062</td>\n",
       "</tr>\n",
       "<tr>\n",
       "  <th>Sex</th>   <td>   -0.7776</td> <td>    0.232</td> <td>   -3.354</td> <td> 0.001</td> <td>   -1.232</td> <td>   -0.323</td>\n",
       "</tr>\n",
       "</table>"
      ],
      "text/plain": [
       "<class 'statsmodels.iolib.summary.Summary'>\n",
       "\"\"\"\n",
       "                           Logit Regression Results                           \n",
       "==============================================================================\n",
       "Dep. Variable:           EverArrested   No. Observations:                  478\n",
       "Model:                          Logit   Df Residuals:                      475\n",
       "Method:                           MLE   Df Model:                            2\n",
       "Date:                Sun, 13 Mar 2022   Pseudo R-squ.:                 0.03088\n",
       "Time:                        08:09:49   Log-Likelihood:                -243.89\n",
       "converged:                       True   LL-Null:                       -251.66\n",
       "Covariance Type:            nonrobust   LLR p-value:                 0.0004222\n",
       "==============================================================================\n",
       "                 coef    std err          z      P>|z|      [0.025      0.975]\n",
       "------------------------------------------------------------------------------\n",
       "const         -2.0951      0.494     -4.237      0.000      -3.064      -1.126\n",
       "Age            0.0345      0.014      2.451      0.014       0.007       0.062\n",
       "Sex           -0.7776      0.232     -3.354      0.001      -1.232      -0.323\n",
       "==============================================================================\n",
       "\"\"\""
      ]
     },
     "execution_count": 8,
     "metadata": {},
     "output_type": "execute_result"
    }
   ],
   "source": [
    "log_reg_baseline = sm.Logit(y, X[['const'] + baseline_vars]).fit()\n",
    "log_reg_baseline.summary()"
   ]
  },
  {
   "cell_type": "markdown",
   "id": "8b2a6c9c",
   "metadata": {},
   "source": [
    "This seems to fit the data substantially less well. We can do model comparison using a likelihood ratio test:"
   ]
  },
  {
   "cell_type": "code",
   "execution_count": 11,
   "id": "c80e5c9a",
   "metadata": {},
   "outputs": [
    {
     "name": "stdout",
     "output_type": "stream",
     "text": [
      "Likelihood ratio test results for full model vs baseline:\n",
      "Chi-squared: 36.61593762358501, p = 0.0008431973954732763\n"
     ]
    }
   ],
   "source": [
    "result = lrtest(log_reg, log_reg_baseline)\n",
    "print('Likelihood ratio test results for full model vs baseline:')\n",
    "print(f'Chi-squared: {result[0]}, p = {result[1]}')\n"
   ]
  },
  {
   "cell_type": "markdown",
   "id": "0a211700",
   "metadata": {},
   "source": [
    "Based on this analysis, we conclude that impulsivity is related to the likelihood of being arrested.  "
   ]
  },
  {
   "cell_type": "code",
   "execution_count": null,
   "id": "1be78aa8",
   "metadata": {},
   "outputs": [],
   "source": []
  }
 ],
 "metadata": {
  "kernelspec": {
   "display_name": "Python 3 (ipykernel)",
   "language": "python",
   "name": "python3"
  },
  "language_info": {
   "codemirror_mode": {
    "name": "ipython",
    "version": 3
   },
   "file_extension": ".py",
   "mimetype": "text/x-python",
   "name": "python",
   "nbconvert_exporter": "python",
   "pygments_lexer": "ipython3",
   "version": "3.8.12"
  }
 },
 "nbformat": 4,
 "nbformat_minor": 5
}
